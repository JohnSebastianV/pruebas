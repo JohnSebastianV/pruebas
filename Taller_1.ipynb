{
  "nbformat": 4,
  "nbformat_minor": 0,
  "metadata": {
    "colab": {
      "provenance": []
    },
    "kernelspec": {
      "name": "python3",
      "display_name": "Python 3"
    },
    "language_info": {
      "name": "python"
    }
  },
  "cells": [
    {
      "cell_type": "markdown",
      "source": [
        "Implementa una función no recursiva que cuente el número de\n",
        "dígitos en un número entero.\n"
      ],
      "metadata": {
        "id": "g4fNkCSouqMi"
      }
    },
    {
      "cell_type": "code",
      "source": [
        "def contar_digitos_numero_entero(numero):    #O(n)\n",
        "    contador = 0 #O(0) #O(1)\n",
        "    numero = abs(numero) #O(0) #O(1)\n",
        "\n",
        "\n",
        "    while numero > 0:  #O(n)\n",
        "        contador += 1  #O(n)\n",
        "        numero //= 10  #O(n)\n",
        "\n",
        "    return contador #O(0)\n",
        "\n",
        "numero = 170943876  #O(0) #O(1)\n",
        "print(\"El número de dígitos en\", numero, \"es:\", contar_digitos_numero_entero(numero))  #O(0)\n"
      ],
      "metadata": {
        "colab": {
          "base_uri": "https://localhost:8080/"
        },
        "id": "arpkTW4iux-p",
        "outputId": "feb39aa3-71ff-4818-8dbc-f696ef1cfd3d"
      },
      "execution_count": null,
      "outputs": [
        {
          "output_type": "stream",
          "name": "stdout",
          "text": [
            "El número de dígitos en 170943876 es: 9\n"
          ]
        }
      ]
    },
    {
      "cell_type": "markdown",
      "source": [
        "Crea una función no recursiva que sume todos los elementos de un array."
      ],
      "metadata": {
        "id": "PjSWXb2Uu_TB"
      }
    },
    {
      "cell_type": "code",
      "source": [
        "def sumar_array(array):  #O(n)\n",
        "    suma = 0 #O(0) #O(1)\n",
        "    for elemento in array: #O(n)\n",
        "        suma += elemento  #O(n)\n",
        "    return suma #O(0)\n",
        "\n",
        "\n",
        "array = [6, 2, 9, 4]  #O(0) #O(1)\n",
        "print(\"La suma de los elementos del array es:\", sumar_array(array)) #O(0)"
      ],
      "metadata": {
        "colab": {
          "base_uri": "https://localhost:8080/"
        },
        "id": "gmkQIuG8vFYB",
        "outputId": "ed9697ab-3df0-40df-e287-ec0194e76df5"
      },
      "execution_count": null,
      "outputs": [
        {
          "output_type": "stream",
          "name": "stdout",
          "text": [
            "La suma de los elementos del array es: 21\n"
          ]
        }
      ]
    },
    {
      "cell_type": "markdown",
      "source": [
        "Desarrolla una función no recursiva que sume todos los dígitos de un número entero"
      ],
      "metadata": {
        "id": "y3kWiU2XvKBR"
      }
    },
    {
      "cell_type": "code",
      "source": [
        "def sumar_digitos_numero_entero(numero): #O(n)\n",
        "    suma = 0  #O(0) #O(1)\n",
        "    numero = abs(numero)  #O(0) #O(1)\n",
        "\n",
        "\n",
        "    while numero > 0: #O(n)\n",
        "        ultimo_digito = numero % 10 #O(n) #O(1)\n",
        "        suma += ultimo_digito #O(n)\n",
        "        numero //= 10 #O(n)\n",
        "\n",
        "    return suma #O(0)\n",
        "\n",
        "\n",
        "numero = 74325  #O(0) #O(1)\n",
        "print(\"La suma de los dígitos del número entero\", numero, \"es:\", sumar_digitos_numero_entero(numero))  #O(0)"
      ],
      "metadata": {
        "colab": {
          "base_uri": "https://localhost:8080/"
        },
        "id": "quLRFYCuvOkh",
        "outputId": "c93b4bfa-53e1-43f0-d2c6-1f04bdaa1ff7"
      },
      "execution_count": null,
      "outputs": [
        {
          "output_type": "stream",
          "name": "stdout",
          "text": [
            "La suma de los dígitos del número entero 74325 es: 21\n"
          ]
        }
      ]
    }
  ]
}